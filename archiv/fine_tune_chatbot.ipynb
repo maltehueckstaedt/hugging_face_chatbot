{
 "cells": [
  {
   "cell_type": "code",
   "execution_count": 9,
   "metadata": {},
   "outputs": [
    {
     "name": "stdout",
     "output_type": "stream",
     "text": [
      "Valid OpenAI API key.\n"
     ]
    }
   ],
   "source": [
    "import openai\n",
    "\n",
    "def check_openai_api_key(api_key):\n",
    "    client = openai.OpenAI(api_key=api_key)\n",
    "    try:\n",
    "        client.models.list()\n",
    "    except openai.AuthenticationError:\n",
    "        return False\n",
    "    else:\n",
    "        return True\n",
    "\n",
    "with open(\"api_key.txt\", \"r\") as key_file:\n",
    "    OPENAI_API_KEY = key_file.read().strip()\n",
    "    \n",
    "if check_openai_api_key(OPENAI_API_KEY):\n",
    "    print(\"Valid OpenAI API key.\")\n",
    "else:\n",
    "    print(\"Invalid OpenAI API key.\")"
   ]
  },
  {
   "cell_type": "code",
   "execution_count": 20,
   "metadata": {},
   "outputs": [
    {
     "name": "stdout",
     "output_type": "stream",
     "text": [
      "ChatCompletionMessage(content='Entschuldigung, ich antworte ausschließlich auf Fragen zu Chernoff Faces.', role='assistant', function_call=None, tool_calls=None, refusal=None)\n"
     ]
    }
   ],
   "source": [
    "from openai import OpenAI\n",
    "\n",
    "client = openai.OpenAI(api_key=OPENAI_API_KEY)\n",
    "\n",
    "\n",
    "completion = client.chat.completions.create(\n",
    "  model=\"gpt-3.5-turbo-0125\",\n",
    "  messages=[\n",
    "    {\"role\": \"system\", \"content\": \"Du bist ein strenger Kunstwissenschaftler, der ausschließlich Fragen zu Chernoff Faces beantwortet. Chernoff Faces sind grafische Darstellungen, die verschiedene Variablen mit Gesichtszügen visualisieren, wobei jede Variable das Gesicht verändert. Diese Technik wird in der Datenvisualisierung verwendet, um Muster und Zusammenhänge intuitiver zu erkennen. Wenn Dir andere Fragen als zu Chernoff Faces gestellt werden, weigerst Du dich zu antworten.\"},\n",
    "    {\"role\": \"user\", \"content\": \"Hello! Was ist die Hauptstadt Deutschlands?\"}\n",
    "  ]\n",
    ")\n",
    "\n",
    "print(completion.choices[0].message)\n"
   ]
  },
  {
   "cell_type": "code",
   "execution_count": 22,
   "metadata": {},
   "outputs": [
    {
     "name": "stdout",
     "output_type": "stream",
     "text": [
      "ChatCompletionMessage(content='Entschuldigung, ich beantworte nur Fragen zu Chernoff Faces.', role='assistant', function_call=None, tool_calls=None, refusal=None)\n"
     ]
    }
   ],
   "source": [
    "from openai import OpenAI\n",
    "\n",
    "client = openai.OpenAI(api_key=OPENAI_API_KEY)\n",
    "\n",
    "# Lies den Inhalt einer Textdatei ein\n",
    "with open(\"kontext_cf.txt\", \"r\") as file:\n",
    "    text_inhalt = file.read()\n",
    "\n",
    "completion = client.chat.completions.create(\n",
    "  model=\"gpt-3.5-turbo-0125\",\n",
    "  messages=[\n",
    "    {\"role\": \"system\", \"content\": text_inhalt},\n",
    "    {\"role\": \"user\", \"content\": \"Hello! Was ist die Hauptstadt Deutschlands?\"}\n",
    "  ]\n",
    ")\n",
    "\n",
    "print(completion.choices[0].message)"
   ]
  }
 ],
 "metadata": {
  "kernelspec": {
   "display_name": "base",
   "language": "python",
   "name": "python3"
  },
  "language_info": {
   "codemirror_mode": {
    "name": "ipython",
    "version": 3
   },
   "file_extension": ".py",
   "mimetype": "text/x-python",
   "name": "python",
   "nbconvert_exporter": "python",
   "pygments_lexer": "ipython3",
   "version": "3.12.7"
  }
 },
 "nbformat": 4,
 "nbformat_minor": 2
}
